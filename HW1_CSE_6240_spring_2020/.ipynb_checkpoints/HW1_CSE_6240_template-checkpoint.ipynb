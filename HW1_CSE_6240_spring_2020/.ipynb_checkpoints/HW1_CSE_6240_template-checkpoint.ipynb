{
 "cells": [
  {
   "cell_type": "markdown",
   "metadata": {
    "colab_type": "text",
    "id": "fi_VO8r3R1TT"
   },
   "source": [
    "# Analyzing A Movie Review Dataset[100 Points]"
   ]
  },
  {
   "cell_type": "markdown",
   "metadata": {
    "colab_type": "text",
    "id": "gd1nFWBCP7GC"
   },
   "source": [
    "## 0. Text Preprocessing [10 Points]"
   ]
  },
  {
   "cell_type": "markdown",
   "metadata": {
    "colab_type": "text",
    "id": "gaeN3k-w_ygu"
   },
   "source": [
    "Read through this tutorial on kaggle [here](\n",
    "https://www.kaggle.com/c/word2vec-nlp-tutorial/details/part-1-for-beginners-bag-of-words) , to\n",
    "familiarize yourself with its python tools and workflow. You'll have to download \"labeledTrainData.tsv\" and \"testData.tsv\" from [here](https://www.kaggle.com/c/word2vec-nlp-tutorial/data). Please remember to add your GT_UserName in the author function below."
   ]
  },
  {
   "cell_type": "code",
   "execution_count": 4,
   "metadata": {
    "colab": {
     "base_uri": "https://localhost:8080/",
     "height": 34
    },
    "colab_type": "code",
    "id": "IZAcFI1WbCc4",
    "outputId": "33b0e186-0bcb-4210-e15a-d6f90a59b4e0"
   },
   "outputs": [
    {
     "name": "stdout",
     "output_type": "stream",
     "text": [
      "This assignment is submitted by pburdell3.\n"
     ]
    }
   ],
   "source": [
    "def author(gt_username = 'pburdell3'):\n",
    "    print(\"This assignment is submitted by {0}.\".format(gt_username))\n",
    "\n",
    "#Add your GT_UserName below and uncomment the line.\n",
    "#author()\n"
   ]
  },
  {
   "cell_type": "code",
   "execution_count": 0,
   "metadata": {
    "colab": {},
    "colab_type": "code",
    "id": "UIpeJ8VmR1TX"
   },
   "outputs": [],
   "source": [
    "#Import the necessary libraries\n",
    "import pandas as pd\n",
    "import numpy as np\n",
    "import scipy as sp\n",
    "import re\n",
    "import nltk\n",
    "from bs4 import BeautifulSoup\n",
    "from nltk.corpus import stopwords\n",
    "from copy import deepcopy\n",
    "from sklearn.feature_extraction.text import CountVectorizer\n",
    "from sklearn.feature_extraction.text import TfidfTransformer\n",
    "from sklearn.metrics.pairwise import pairwise_distances"
   ]
  },
  {
   "cell_type": "code",
   "execution_count": 0,
   "metadata": {
    "colab": {},
    "colab_type": "code",
    "id": "CIvs0LVJR1Te"
   },
   "outputs": [],
   "source": [
    "# Reading in the data\n",
    "train = pd.read_csv(\"labeledTrainData.tsv\", delimiter=\"\\t\")\n",
    "test = pd.read_csv(\"testData.tsv\", delimiter=\"\\t\")"
   ]
  },
  {
   "cell_type": "code",
   "execution_count": 0,
   "metadata": {
    "colab": {},
    "colab_type": "code",
    "id": "Ano1yq7oR1Th"
   },
   "outputs": [],
   "source": [
    "def preprocess_review(review):\n",
    "    \"\"\"Helper function to clean the reviews.\n",
    "\n",
    "     Arg: review: review text.\n",
    "     Returns: clean_review : Cleaned reviews\n",
    "\n",
    "     You should carry out the following steps.\n",
    "     1. Remove HTML Tags.\n",
    "     2. Remove non-letter characters.\n",
    "     3. Convert to lower case.\n",
    "     4. Remove stopwords.\n",
    "    \"\"\"\n",
    "\n",
    "    #Write your code below.\n",
    "\n",
    "    \n",
    "    return clean_review\n"
   ]
  },
  {
   "cell_type": "code",
   "execution_count": 0,
   "metadata": {
    "colab": {},
    "colab_type": "code",
    "id": "FJERbiU0R1Tj"
   },
   "outputs": [],
   "source": [
    "#Clean the reviews and add them to the list below\n",
    "cleaned_reviews = []\n",
    "\n",
    "#Write your code below.\n",
    "\n"
   ]
  },
  {
   "cell_type": "markdown",
   "metadata": {
    "colab_type": "text",
    "id": "dIq31H_fR1Tm"
   },
   "source": [
    "## 1. Processing Text to create Design Matrices [15 Points]"
   ]
  },
  {
   "cell_type": "code",
   "execution_count": 0,
   "metadata": {
    "colab": {},
    "colab_type": "code",
    "id": "urCR0VMaR1Tn"
   },
   "outputs": [],
   "source": [
    "def design_matrix(cleaned_reviews):\n",
    "    \"\"\" Generate the 4 design matrices X_counts, X_binary, X_tfidf, X_binary_imbalance.\n",
    "\n",
    "      Args: cleaned_reviews: Cleaned Reviews.\n",
    "      Returns:\n",
    "            X_counts: Design Matrix X_counts.\n",
    "            X_binary: Design Matrix X_binary(Use the X_counts to generate this.)\n",
    "            X_tfidf:  Design Matrix X_tfidf\n",
    "            X_binary_imbalance: Design Matrix X_binary_imbalance(use fraction 0.75)\n",
    "            imbalance_train: Skewed training set(use fraction 0.75)\n",
    "\n",
    "\n",
    "\n",
    "\n",
    "    \"\"\"\n",
    "\n",
    "    #Write your code here.\n",
    "  \n",
    "\n",
    "\n",
    "    return X_counts,X_binary,X_tfidf,X_binary_imbalance,imbalance_train"
   ]
  },
  {
   "cell_type": "code",
   "execution_count": 0,
   "metadata": {
    "colab": {},
    "colab_type": "code",
    "id": "POPvMtKER1Tp"
   },
   "outputs": [],
   "source": [
    "X_counts"
   ]
  },
  {
   "cell_type": "code",
   "execution_count": 0,
   "metadata": {
    "colab": {},
    "colab_type": "code",
    "id": "5kt4EPPLR1Tx"
   },
   "outputs": [],
   "source": [
    "X_binary"
   ]
  },
  {
   "cell_type": "code",
   "execution_count": 0,
   "metadata": {
    "colab": {},
    "colab_type": "code",
    "id": "xBH1DKHuR1T1"
   },
   "outputs": [],
   "source": [
    "X_tfidf"
   ]
  },
  {
   "cell_type": "code",
   "execution_count": 0,
   "metadata": {
    "colab": {},
    "colab_type": "code",
    "id": "hcHBxl31R1T7"
   },
   "outputs": [],
   "source": [
    "X_binary_imbalance"
   ]
  },
  {
   "cell_type": "markdown",
   "metadata": {
    "colab_type": "text",
    "id": "F5s2xUvMR1T-"
   },
   "source": [
    "## 2. Feature Space Similarity Experiment [25(5 + 5 + 15) Points]"
   ]
  },
  {
   "cell_type": "code",
   "execution_count": 0,
   "metadata": {
    "colab": {},
    "colab_type": "code",
    "id": "LRPAXIfDR1T_"
   },
   "outputs": [],
   "source": [
    "# Obtain the label on the original train set and imbalance train set\n",
    "train_sentiment = train[\"sentiment\"].values\n",
    "imbalance_train_sentiment = imbalance_train[\"sentiment\"].values"
   ]
  },
  {
   "cell_type": "code",
   "execution_count": 0,
   "metadata": {
    "colab": {},
    "colab_type": "code",
    "id": "rgK6cWOKUhIJ"
   },
   "outputs": [],
   "source": [
    "def dist(X, i, j, distance_function = \"euclidean\"):\n",
    "    \"\"\"The distance function returns the (Euclidean) distance between rows i and j of a design matrix.\n",
    "     Args: X : Design Matrix\n",
    "           i,j: row IDs\n",
    "           distance_function: The distance function to be used. Here we are using euclidean\n",
    "     Returns: The distance between row i and row j.\n",
    "  \n",
    "    \"\"\"\n",
    "    #Write your code here.\n",
    "\n",
    "    return distance"
   ]
  },
  {
   "cell_type": "code",
   "execution_count": 0,
   "metadata": {
    "colab": {},
    "colab_type": "code",
    "id": "cWvROZUqUnvJ"
   },
   "outputs": [],
   "source": [
    "def topk(X, k):\n",
    "    \"\"\"The topk(X, k) function returns ((i1,j1,d1),...(ik,jk,dk)) where (ix,jx) are the indices of the xth \n",
    "     closest pair, and dx is the corresponding distance. You can break ties randomly.\n",
    "     Args: X : Design Matrix\n",
    "           k:  Top k\n",
    "     Returns: top: A list of [row,col,distance]\n",
    "  \n",
    "    \"\"\"\n",
    "   \n",
    "    #Write your code here.\n",
    "    \n",
    "    \n",
    "    return top"
   ]
  },
  {
   "cell_type": "markdown",
   "metadata": {
    "colab_type": "text",
    "id": "z6QQdWA7BmMZ"
   },
   "source": [
    "Use topk() to find the closest review pairs for each design matrix and print the following: the indices of the reviews, the distance, the first 20 characters of each review, the labels for each review."
   ]
  },
  {
   "cell_type": "code",
   "execution_count": 0,
   "metadata": {
    "colab": {},
    "colab_type": "code",
    "id": "L-pJSPn0a3NA"
   },
   "outputs": [],
   "source": [
    "# compute top k for X_counts matrix and print the following: the indices of the reviews, the distance, the first 20 characters of each review, the labels for each review.\n",
    "#Write your code here.\n"
   ]
  },
  {
   "cell_type": "code",
   "execution_count": 0,
   "metadata": {
    "colab": {},
    "colab_type": "code",
    "id": "TkvjeJMTaFTS"
   },
   "outputs": [],
   "source": [
    "# compute top k for X_binary matrix and print the following: the indices of the reviews, the distance, the first 20 characters of each review, the labels for each review.\n",
    "#Write your code here.\n",
    "\n"
   ]
  },
  {
   "cell_type": "code",
   "execution_count": 0,
   "metadata": {
    "colab": {},
    "colab_type": "code",
    "id": "OITNkuZUaOu_"
   },
   "outputs": [],
   "source": [
    "# compute top k for X_tfidf matrix and print the following: the indices of the reviews, the distance, the first 20 characters of each review, the labels for each review.\n",
    "#Write your code here.\n"
   ]
  },
  {
   "cell_type": "code",
   "execution_count": 0,
   "metadata": {
    "colab": {},
    "colab_type": "code",
    "id": "ckNqY0ZbaU-z"
   },
   "outputs": [],
   "source": [
    "# compute top k for X_binary_imbalance matrix and print the following: the indices of the reviews, the distance, the first 20 characters of each review, the labels for each review.\n",
    "#Write your code here.\n"
   ]
  },
  {
   "cell_type": "markdown",
   "metadata": {
    "colab_type": "text",
    "id": "ESA7ElrMbHEw"
   },
   "source": [
    "Are the pairs always the same?"
   ]
  },
  {
   "cell_type": "markdown",
   "metadata": {
    "colab_type": "text",
    "id": "yywNrWhlbQ10"
   },
   "source": [
    "## 3. Classification Experiment [35 Points]"
   ]
  },
  {
   "cell_type": "markdown",
   "metadata": {
    "colab_type": "text",
    "id": "Mo8UaxPjCr9Q"
   },
   "source": [
    "Now you’re going to tune an SVM classifier using each design matrix, and measure the\n",
    "resultant performance. Read the sklearn [docs](http://scikit-learn.org/stable/modules/cross_validation.html) on cross-validation to see the\n",
    "methods to use.\n",
    "*   Set your rng seed to 0 and create an initial learning_set / test_set split of 80-20.\n",
    "*   Now we want to use a linear SVM (svm.SVC with kernel=linear) and pick the best C value for our classifier.\n",
    "*   Repeat for each of the four design matrices:\n",
    "  *  Repeat 30 times:\n",
    "    *  Pick a random value of C uniformly in the interval (1e-4, 1e4).\n",
    "    *  Use 5-fold cross-validation to train the SVM.\n",
    "    *  Estimate and record the F1-Score.\n",
    "  *  Select the value of C which produced the best F1-Score and find out the F1-Score on the test set using that C.\n",
    "  *  Retrain the classifier using the entire learning set with this C value.\n",
    "  *  Submit test set predictions to Kaggle (see the section in the blog, and\n",
    "make sure you use their test data. You may need to retrain one more\n",
    "time using all “training data”). Print your Kaggle score."
   ]
  },
  {
   "cell_type": "code",
   "execution_count": 0,
   "metadata": {
    "colab": {},
    "colab_type": "code",
    "id": "t9La4ICibWl6"
   },
   "outputs": [],
   "source": [
    "import matplotlib.pyplot as plt\n",
    "import random as rd\n",
    "\n",
    "from sklearn import svm\n",
    "from sklearn.metrics import f1_score\n",
    "from sklearn.model_selection import train_test_split, KFold"
   ]
  },
  {
   "cell_type": "markdown",
   "metadata": {
    "colab_type": "text",
    "id": "CD98GcZ9jJ2b"
   },
   "source": [
    "### 3.1 Utility Functions [10 (5 + 5) Points]"
   ]
  },
  {
   "cell_type": "code",
   "execution_count": 0,
   "metadata": {
    "colab": {},
    "colab_type": "code",
    "id": "N9K2mD7pe9Bc"
   },
   "outputs": [],
   "source": [
    "def calculateF1(X, y, k = 5):\n",
    "    \"\"\"calculateF1(X, y, k = 5) return two list which record all randomly selected c(in the interval (1e-4, 1e4))\n",
    "     and corresponding F1 scores.\n",
    "\n",
    "     Args: X: Features\n",
    "           y: Label of sentiment\n",
    "           k: Number of Cross-validation\n",
    "\n",
    "     Returns: c_list: List of all c values.\n",
    "              f1_list: Corresponding F1 Scores.\n",
    "    \"\"\"\n",
    "    rd.seed(0) #Setting a common seed\n",
    "\n",
    "    #Write your code here.\n",
    "    \n",
    "        \n",
    "    return c_list, f1_list"
   ]
  },
  {
   "cell_type": "code",
   "execution_count": 0,
   "metadata": {
    "colab": {},
    "colab_type": "code",
    "id": "Ah82TDqCgKaN"
   },
   "outputs": [],
   "source": [
    "def findBestC(X, y, k = 5):\n",
    "    \"\"\"findBestC(X, y, k) return the best performance c, and the improvement(difference between best and worst f1_scores)/\n",
    "     Args: X: Features\n",
    "           y: Label of sentiment\n",
    "           k: Number of Cross-validation\n",
    "     Returns: c_best: C value with best f1_score.\n",
    "              improvement: difference between best and worst f1_score.\n",
    "    \"\"\"\n",
    "    #Write your code here.      \n",
    "    \n",
    "    return c_best,improvement"
   ]
  },
  {
   "cell_type": "markdown",
   "metadata": {
    "colab_type": "text",
    "id": "aAMZU6YBjUVU"
   },
   "source": [
    "### 3.2 Tune an SVM classifier using X_counts [20 (4*5) Points]"
   ]
  },
  {
   "cell_type": "markdown",
   "metadata": {
    "colab_type": "text",
    "id": "IVatM_PprZpC"
   },
   "source": [
    "#### 3.2.0 Utility Function"
   ]
  },
  {
   "cell_type": "code",
   "execution_count": 0,
   "metadata": {
    "colab": {},
    "colab_type": "code",
    "id": "AFjJKZKelYl5"
   },
   "outputs": [],
   "source": [
    "def findImprovement(X,train_sentiment,test_size = 0.2, random_state = 0):\n",
    "    \"\"\" Find the improvement in F1-Score of the design Matrix(X) using previous utility functions and the test_f1_score using the best C.\n",
    "\n",
    "      Args: X: Design Matrix\n",
    "            train_sentiment: Sentiments of the training data\n",
    "            test_size: Split it as 80:20\n",
    "            random_state: Seed\n",
    "\n",
    "      Returns:\n",
    "            c_best: The best possible c value\n",
    "            improvement: improvement in F1-Score using the design Matrix(X).\n",
    "            f1_s: Test F1 Score.\n",
    "            \n",
    "\n",
    "      You should carry out the following Steps:\n",
    "      1. Split the data using the above parameters.\n",
    "      2. Find out the best c and the improvement. (use 5-fold Cross Validation.)\n",
    "      3. Find out the test f1 score with this c.\n",
    "    \"\"\"\n",
    "    #Write your code here.\n",
    "\n",
    "    return c_best,improvement,f1_s"
   ]
  },
  {
   "cell_type": "markdown",
   "metadata": {
    "colab_type": "text",
    "id": "f90fpHRiq1IM"
   },
   "source": [
    "#### 3.2.1 Tune an SVM classifier using X_counts\n",
    "\n"
   ]
  },
  {
   "cell_type": "code",
   "execution_count": 0,
   "metadata": {
    "colab": {},
    "colab_type": "code",
    "id": "vtON_6r5jgTL"
   },
   "outputs": [],
   "source": [
    "#Print the improvement using X_counts and the test f1_score using the best c.\n",
    "#Write your code here.\n"
   ]
  },
  {
   "cell_type": "code",
   "execution_count": 0,
   "metadata": {
    "colab": {},
    "colab_type": "code",
    "id": "IygnGs8blBu-"
   },
   "outputs": [],
   "source": [
    "# Retrain the classifier using the entire learning set with c_best\n",
    "#Write your code here."
   ]
  },
  {
   "cell_type": "markdown",
   "metadata": {
    "colab_type": "text",
    "id": "IunoAYI6pgZW"
   },
   "source": [
    "Submit test set predictions to Kaggle (see the section in the blog, and\n",
    "make sure you use their test data. You may need to retrain one more\n",
    "time using all “training data”). Print your Kaggle scores."
   ]
  },
  {
   "cell_type": "code",
   "execution_count": 0,
   "metadata": {
    "colab": {},
    "colab_type": "code",
    "id": "9aRF1HA7lHAP"
   },
   "outputs": [],
   "source": [
    "#You should do the following steps.\n",
    "#1. Create bag of words from the test data.\n",
    "#2. Generate the labels using that test data.\n",
    "#3. Save the results to the pandas dataframe. For format check the blog.\n",
    "#4. Submit the results to Kaggle and add the scores here.\n",
    "\n",
    "#Write your code here.\n",
    "\n",
    "#Uncomment the below lines and add your score.\n",
    "#X_counts_result = None\n",
    "#print(\"The Kaggle Score using X_counts is {}\".format(X_counts_result))"
   ]
  },
  {
   "cell_type": "markdown",
   "metadata": {
    "colab_type": "text",
    "id": "cYRrpQtvrAKF"
   },
   "source": [
    "#### 3.2.2 Tune an SVM classifier using X_binary"
   ]
  },
  {
   "cell_type": "code",
   "execution_count": 0,
   "metadata": {
    "colab": {},
    "colab_type": "code",
    "id": "jVwbgdUJrD5h"
   },
   "outputs": [],
   "source": [
    "#Print the improvement using X_binary and the test f1_score using the best c.\n",
    "#Write your code here."
   ]
  },
  {
   "cell_type": "code",
   "execution_count": 0,
   "metadata": {
    "colab": {},
    "colab_type": "code",
    "id": "hI0KVsQjsGHa"
   },
   "outputs": [],
   "source": [
    "# Retrain the classifier using the entire learning set with c_best\n",
    "#Write your code here.\n"
   ]
  },
  {
   "cell_type": "code",
   "execution_count": 0,
   "metadata": {
    "colab": {},
    "colab_type": "code",
    "id": "-zpgOR4NsdrP"
   },
   "outputs": [],
   "source": [
    "#Use the the same steps as you did for X_counts and print the kaggle score. Please note that you need to find X_binary_test using the X_counts_test.\n",
    "#Write your code here.\n",
    "\n",
    "\n",
    "\n",
    "\n",
    "#Uncomment the below lines and add your score.\n",
    "#X_binary_result = None\n",
    "#print(\"The Kaggle Score using X_binary is {}\".format(X_binary_result))"
   ]
  },
  {
   "cell_type": "markdown",
   "metadata": {
    "colab_type": "text",
    "id": "sRHMJO2os_tc"
   },
   "source": [
    "#### 3.2.3 Tune an SVM classifier using X_tf_idf"
   ]
  },
  {
   "cell_type": "code",
   "execution_count": 0,
   "metadata": {
    "colab": {},
    "colab_type": "code",
    "id": "xnm8PdFWtGE9"
   },
   "outputs": [],
   "source": [
    "#Print the improvement using X_tf_idf and the test f1_score using the best c.\n",
    "#Write your code here.\n"
   ]
  },
  {
   "cell_type": "code",
   "execution_count": 0,
   "metadata": {
    "colab": {},
    "colab_type": "code",
    "id": "KWXXKrgGtU-r"
   },
   "outputs": [],
   "source": [
    "# Retrain svm using all X_tfidf data\n",
    "#Write your code here."
   ]
  },
  {
   "cell_type": "code",
   "execution_count": 0,
   "metadata": {
    "colab": {},
    "colab_type": "code",
    "id": "waBnpKAztX_H"
   },
   "outputs": [],
   "source": [
    "#Use the the same steps as you did for X_counts and print the kaggle score. Please note that you need to find X_tfidf_test using the X_counts_test.\n",
    "\n",
    "#Write your code here.\n",
    "\n",
    "\n",
    "\n",
    "\n",
    "#Uncomment the below lines and add your score.\n",
    "#X_tfidf_result = None\n",
    "#print(\"The Kaggle Score using X_tfidf is {}\".format(X_tfidf_result))"
   ]
  },
  {
   "cell_type": "markdown",
   "metadata": {
    "colab_type": "text",
    "id": "8GSTHOCktwVf"
   },
   "source": [
    "#### 3.2.4 Tune an SVM classifier using X_binary_imbalance"
   ]
  },
  {
   "cell_type": "code",
   "execution_count": 0,
   "metadata": {
    "colab": {},
    "colab_type": "code",
    "id": "OWPad9EXtzKD"
   },
   "outputs": [],
   "source": [
    "#Print the improvement using X_binary_imbalance and the test f1_score using the best c.\n",
    "#Write your code here.\n"
   ]
  },
  {
   "cell_type": "code",
   "execution_count": 0,
   "metadata": {
    "colab": {},
    "colab_type": "code",
    "id": "oUsNuBpouEL-"
   },
   "outputs": [],
   "source": [
    "# Retrain svm using all X_binary_imbalance data.\n",
    "#Write your code here.\n"
   ]
  },
  {
   "cell_type": "code",
   "execution_count": 0,
   "metadata": {
    "colab": {},
    "colab_type": "code",
    "id": "a6YJvYHkuFh8"
   },
   "outputs": [],
   "source": [
    "#Use the the same steps as you did for X_counts and print the kaggle score.\n",
    "\n",
    "#Write your code here.\n",
    "\n",
    "\n",
    "\n",
    "\n",
    "#Uncomment the below lines and add your score.\n",
    "#X_tfidf_result = None\n",
    "#print(\"The Kaggle Score using X_binary_imbalance is {}\".format(X_binary_imbalance_result))"
   ]
  },
  {
   "cell_type": "markdown",
   "metadata": {
    "colab_type": "text",
    "id": "mRxZro0LMixK"
   },
   "source": [
    "Which design matrix performed best (e.g., which encoding method worked best)?\n",
    "What was the lift (improvement in F1-Score) between the worst and best cases for each experiment?"
   ]
  },
  {
   "cell_type": "markdown",
   "metadata": {
    "colab_type": "text",
    "id": "DFjZq14Subsb"
   },
   "source": [
    "##4. Learning Curve Experiment [15(10 + 5) Points]"
   ]
  },
  {
   "cell_type": "markdown",
   "metadata": {
    "colab_type": "text",
    "id": "0LfArmX7M0-9"
   },
   "source": [
    "Using a logistic regression classifier and the design matrix X_counts, generate a learning curve:\n",
    "*  Set your rng seed to 0 and create an initial learning_set / test_set split of 80-20.\n",
    "*  Generate a learning curve (xval vs training error) for n=(100, 500, 1000, 2000,3000, 4000, 5000, 7500, 10000, 15000, 20000) training instances.\n",
    "*  Interpret the learning curve."
   ]
  },
  {
   "cell_type": "code",
   "execution_count": 0,
   "metadata": {
    "colab": {},
    "colab_type": "code",
    "id": "yZy1W2wCNRrU"
   },
   "outputs": [],
   "source": [
    "from sklearn.linear_model import LogisticRegression\n",
    "from sklearn.model_selection import learning_curve"
   ]
  },
  {
   "cell_type": "code",
   "execution_count": 0,
   "metadata": {
    "colab": {},
    "colab_type": "code",
    "id": "OQYNGVZYugpY"
   },
   "outputs": [],
   "source": [
    "training_instances = [100, 500, 1000, 2000, 3000, 4000, 5000, 7500, 10000, 15000, 20000]\n",
    "#Use the learning_curve module to generate mean train and test scores and plot them with X-axis being the number of training instances and Y-axis.\n",
    "#Please add appropriate title,labels and legends.\n",
    "#Write your code here."
   ]
  },
  {
   "cell_type": "markdown",
   "metadata": {
    "colab_type": "text",
    "id": "Xm0dRZbpScvV"
   },
   "source": [
    "##### Please provide an explanation to the nature of your graph in the above experiment."
   ]
  }
 ],
 "metadata": {
  "colab": {
   "collapsed_sections": [],
   "name": "HW1_CSE_6240_template.ipynb",
   "provenance": []
  },
  "kernelspec": {
   "display_name": "Python 3",
   "language": "python",
   "name": "python3"
  },
  "language_info": {
   "codemirror_mode": {
    "name": "ipython",
    "version": 3
   },
   "file_extension": ".py",
   "mimetype": "text/x-python",
   "name": "python",
   "nbconvert_exporter": "python",
   "pygments_lexer": "ipython3",
   "version": "3.7.0"
  }
 },
 "nbformat": 4,
 "nbformat_minor": 1
}
