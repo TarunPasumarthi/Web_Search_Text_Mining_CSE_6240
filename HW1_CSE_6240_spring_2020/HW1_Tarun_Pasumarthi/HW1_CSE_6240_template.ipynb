{
 "cells": [
  {
   "cell_type": "markdown",
   "metadata": {
    "colab_type": "text",
    "id": "fi_VO8r3R1TT"
   },
   "source": [
    "# Analyzing A Movie Review Dataset[100 Points]"
   ]
  },
  {
   "cell_type": "markdown",
   "metadata": {
    "colab_type": "text",
    "id": "gd1nFWBCP7GC"
   },
   "source": [
    "## 0. Text Preprocessing [10 Points]"
   ]
  },
  {
   "cell_type": "markdown",
   "metadata": {
    "colab_type": "text",
    "id": "gaeN3k-w_ygu"
   },
   "source": [
    "Read through this tutorial on kaggle [here](\n",
    "https://www.kaggle.com/c/word2vec-nlp-tutorial/details/part-1-for-beginners-bag-of-words) , to\n",
    "familiarize yourself with its python tools and workflow. You'll have to download \"labeledTrainData.tsv\" and \"testData.tsv\" from [here](https://www.kaggle.com/c/word2vec-nlp-tutorial/data). Please remember to add your GT_UserName in the author function below."
   ]
  },
  {
   "cell_type": "code",
   "execution_count": 1,
   "metadata": {
    "colab": {
     "base_uri": "https://localhost:8080/",
     "height": 34
    },
    "colab_type": "code",
    "id": "IZAcFI1WbCc4",
    "outputId": "33b0e186-0bcb-4210-e15a-d6f90a59b4e0"
   },
   "outputs": [
    {
     "name": "stdout",
     "output_type": "stream",
     "text": [
      "This assignment is submitted by tpasumarthi3.\n"
     ]
    }
   ],
   "source": [
    "def author(gt_username = 'tpasumarthi3'):\n",
    "    print(\"This assignment is submitted by {0}.\".format(gt_username))\n",
    "\n",
    "#Add your GT_UserName below and uncomment the line.\n",
    "author()\n"
   ]
  },
  {
   "cell_type": "code",
   "execution_count": 2,
   "metadata": {
    "colab": {},
    "colab_type": "code",
    "id": "UIpeJ8VmR1TX"
   },
   "outputs": [],
   "source": [
    "#Import the necessary libraries\n",
    "import pandas as pd\n",
    "import numpy as np\n",
    "import scipy as sp\n",
    "import re\n",
    "import nltk\n",
    "from bs4 import BeautifulSoup\n",
    "from nltk.corpus import stopwords\n",
    "from copy import deepcopy\n",
    "from sklearn.feature_extraction.text import CountVectorizer\n",
    "from sklearn.feature_extraction.text import TfidfTransformer\n",
    "from sklearn.metrics.pairwise import pairwise_distances"
   ]
  },
  {
   "cell_type": "code",
   "execution_count": 3,
   "metadata": {
    "colab": {},
    "colab_type": "code",
    "id": "CIvs0LVJR1Te"
   },
   "outputs": [],
   "source": [
    "# Reading in the data\n",
    "train = pd.read_csv(\"labeledTrainData.tsv\", delimiter=\"\\t\")\n",
    "test = pd.read_csv(\"testData.tsv\", delimiter=\"\\t\")"
   ]
  },
  {
   "cell_type": "code",
   "execution_count": 4,
   "metadata": {
    "colab": {},
    "colab_type": "code",
    "id": "Ano1yq7oR1Th"
   },
   "outputs": [],
   "source": [
    "def preprocess_review(review):\n",
    "    \"\"\"Helper function to clean the reviews.\n",
    "\n",
    "     Arg: review: review text.\n",
    "     Returns: clean_review : Cleaned reviews\n",
    "\n",
    "     You should carry out the following steps.\n",
    "     1. Remove HTML Tags.\n",
    "     2. Remove non-letter characters.\n",
    "     3. Convert to lower case.\n",
    "     4. Remove stopwords.\n",
    "    \"\"\"\n",
    "\n",
    "    #Write your code below\n",
    "    # 1. Remove HTML\n",
    "    review_text = BeautifulSoup(review).get_text() \n",
    "    #\n",
    "    # 2. Remove non-letters        \n",
    "    letters_only = re.sub(\"[^a-zA-Z]\", \" \", review_text) \n",
    "    #\n",
    "    # 3. Convert to lower case, split into individual words\n",
    "    words = letters_only.lower().split()                             \n",
    "    #\n",
    "    # 4. In Python, searching a set is much faster than searching\n",
    "    #   a list, so convert the stop words to a set\n",
    "    #nltk.download('stopwords')\n",
    "    stops = set(stopwords.words(\"english\"))                  \n",
    "    # \n",
    "    # 5. Remove stop words\n",
    "    meaningful_words = [w for w in words if not w in stops]   \n",
    "    #\n",
    "    # 6. Join the words back into one string separated by space, \n",
    "    # and return the result.\n",
    "    return( \" \".join( meaningful_words ))\n",
    "    \n",
    "    return clean_review\n"
   ]
  },
  {
   "cell_type": "code",
   "execution_count": 5,
   "metadata": {
    "colab": {},
    "colab_type": "code",
    "id": "FJERbiU0R1Tj"
   },
   "outputs": [],
   "source": [
    "#Clean the reviews and add them to the list below\n",
    "cleaned_reviews = []\n",
    "\n",
    "#Write your code below.\n",
    "num_reviews = train[\"review\"].size \n",
    "for i in range(num_reviews):\n",
    "    cleaned_reviews.append(preprocess_review( train[\"review\"][i] ))\n",
    "\n",
    "    \n",
    "#Clean the test reviews and add them to the list below\n",
    "cleaned_test_reviews = []\n",
    "\n",
    "#Write your code below.\n",
    "num_test_reviews = test[\"review\"].size \n",
    "for i in range(num_test_reviews):\n",
    "    cleaned_test_reviews.append(preprocess_review( test[\"review\"][i] ))"
   ]
  },
  {
   "cell_type": "markdown",
   "metadata": {
    "colab_type": "text",
    "id": "dIq31H_fR1Tm"
   },
   "source": [
    "## 1. Processing Text to create Design Matrices [15 Points]"
   ]
  },
  {
   "cell_type": "code",
   "execution_count": 6,
   "metadata": {
    "colab": {},
    "colab_type": "code",
    "id": "urCR0VMaR1Tn"
   },
   "outputs": [],
   "source": [
    "def design_matrix(cleaned_reviews):\n",
    "    \"\"\" Generate the 4 design matrices X_counts, X_binary, X_tfidf, X_binary_imbalance.\n",
    "\n",
    "      Args: cleaned_reviews: Cleaned Reviews.\n",
    "      Returns:\n",
    "            X_counts: Design Matrix X_counts.\n",
    "            X_binary: Design Matrix X_binary(Use the X_counts to generate this.)\n",
    "            X_tfidf:  Design Matrix X_tfidf\n",
    "            X_binary_imbalance: Design Matrix X_binary_imbalance(use fraction 0.75)\n",
    "            imbalance_train: Skewed training set(use fraction 0.75)\n",
    "\n",
    "\n",
    "\n",
    "\n",
    "    \"\"\"\n",
    "    \n",
    "    #Write your code below \n",
    "    #Create X_counts\n",
    "    vectorizer = CountVectorizer(analyzer = \"word\", tokenizer = None, preprocessor = None, \\\n",
    "                                 stop_words = None, max_features = 5000) \n",
    "    X_counts = vectorizer.fit_transform(cleaned_reviews)\n",
    "    X_counts = X_counts.toarray()\n",
    "    \n",
    "    #create X_binary\n",
    "    X_binary= np.copy(X_counts)\n",
    "    X_binary[X_binary > 0] = 1\n",
    "    #print(X_binary[0].sum())\n",
    "    #print(X_counts[0].sum())\n",
    "    \n",
    "    #create X_tfidf\n",
    "    transformer = TfidfTransformer(smooth_idf=False)\n",
    "    X_tfidf= transformer.fit_transform(X_counts)\n",
    "    X_tfidf= X_tfidf.toarray()\n",
    "    #print(X_tfidf[0].sum())\n",
    "    \n",
    "    #create list of indexes to be deleted for the imbalanced design matricies\n",
    "    np.random.seed(0)\n",
    "    idxs= np.array(train.index[train['sentiment'] == 1].tolist())\n",
    "    np.random.shuffle(idxs)\n",
    "    split=int(len(idxs)*.75)\n",
    "    del_idxs=idxs[0:split]\n",
    "    #tee=del_idxs\n",
    "    #print(np.sort(tee))\n",
    "    \n",
    "    #create X_binary_imbalance\n",
    "    X_binary_imbalance= np.delete(X_binary,del_idxs, axis=0)\n",
    "    #print(X_binary_imbalance[0].sum())\n",
    "    \n",
    "    #create imbalance_train\n",
    "    imbalance_train=train.copy()\n",
    "    imbalance_train.drop(imbalance_train.index[list(del_idxs)],inplace=True)\n",
    "    imbalance_train.reset_index(inplace=True, drop=True)\n",
    "    #print(imbalance_train)\n",
    "    \n",
    "    return X_counts,X_binary,X_tfidf,X_binary_imbalance,imbalance_train"
   ]
  },
  {
   "cell_type": "code",
   "execution_count": 7,
   "metadata": {},
   "outputs": [],
   "source": [
    "X_counts,X_binary,X_tfidf,X_binary_imbalance,imbalance_train= design_matrix(cleaned_reviews)"
   ]
  },
  {
   "cell_type": "code",
   "execution_count": 8,
   "metadata": {
    "colab": {},
    "colab_type": "code",
    "id": "POPvMtKER1Tp"
   },
   "outputs": [
    {
     "data": {
      "text/plain": [
       "array([[0, 0, 0, ..., 0, 0, 0],\n",
       "       [0, 0, 0, ..., 0, 0, 0],\n",
       "       [0, 0, 0, ..., 0, 0, 0],\n",
       "       ...,\n",
       "       [0, 0, 0, ..., 0, 0, 0],\n",
       "       [0, 0, 0, ..., 0, 0, 0],\n",
       "       [0, 0, 0, ..., 0, 0, 0]], dtype=int64)"
      ]
     },
     "execution_count": 8,
     "metadata": {},
     "output_type": "execute_result"
    }
   ],
   "source": [
    "X_counts"
   ]
  },
  {
   "cell_type": "code",
   "execution_count": 9,
   "metadata": {
    "colab": {},
    "colab_type": "code",
    "id": "5kt4EPPLR1Tx"
   },
   "outputs": [
    {
     "data": {
      "text/plain": [
       "array([[0, 0, 0, ..., 0, 0, 0],\n",
       "       [0, 0, 0, ..., 0, 0, 0],\n",
       "       [0, 0, 0, ..., 0, 0, 0],\n",
       "       ...,\n",
       "       [0, 0, 0, ..., 0, 0, 0],\n",
       "       [0, 0, 0, ..., 0, 0, 0],\n",
       "       [0, 0, 0, ..., 0, 0, 0]], dtype=int64)"
      ]
     },
     "execution_count": 9,
     "metadata": {},
     "output_type": "execute_result"
    }
   ],
   "source": [
    "X_binary"
   ]
  },
  {
   "cell_type": "code",
   "execution_count": 10,
   "metadata": {
    "colab": {},
    "colab_type": "code",
    "id": "xBH1DKHuR1T1"
   },
   "outputs": [
    {
     "data": {
      "text/plain": [
       "array([[0., 0., 0., ..., 0., 0., 0.],\n",
       "       [0., 0., 0., ..., 0., 0., 0.],\n",
       "       [0., 0., 0., ..., 0., 0., 0.],\n",
       "       ...,\n",
       "       [0., 0., 0., ..., 0., 0., 0.],\n",
       "       [0., 0., 0., ..., 0., 0., 0.],\n",
       "       [0., 0., 0., ..., 0., 0., 0.]])"
      ]
     },
     "execution_count": 10,
     "metadata": {},
     "output_type": "execute_result"
    }
   ],
   "source": [
    "X_tfidf"
   ]
  },
  {
   "cell_type": "code",
   "execution_count": 11,
   "metadata": {
    "colab": {},
    "colab_type": "code",
    "id": "hcHBxl31R1T7"
   },
   "outputs": [
    {
     "data": {
      "text/plain": [
       "array([[0, 0, 0, ..., 0, 0, 0],\n",
       "       [0, 0, 0, ..., 0, 0, 0],\n",
       "       [0, 0, 0, ..., 0, 0, 0],\n",
       "       ...,\n",
       "       [0, 0, 0, ..., 0, 0, 0],\n",
       "       [0, 0, 0, ..., 0, 0, 0],\n",
       "       [0, 0, 0, ..., 0, 0, 0]], dtype=int64)"
      ]
     },
     "execution_count": 11,
     "metadata": {},
     "output_type": "execute_result"
    }
   ],
   "source": [
    "X_binary_imbalance"
   ]
  },
  {
   "cell_type": "markdown",
   "metadata": {
    "colab_type": "text",
    "id": "F5s2xUvMR1T-"
   },
   "source": [
    "## 2. Feature Space Similarity Experiment [25(5 + 5 + 15) Points]"
   ]
  },
  {
   "cell_type": "code",
   "execution_count": 12,
   "metadata": {
    "colab": {},
    "colab_type": "code",
    "id": "LRPAXIfDR1T_"
   },
   "outputs": [],
   "source": [
    "# Obtain the label on the original train set and imbalance train set\n",
    "train_sentiment = train[\"sentiment\"].values\n",
    "imbalance_train_sentiment = imbalance_train[\"sentiment\"].values"
   ]
  },
  {
   "cell_type": "code",
   "execution_count": 13,
   "metadata": {
    "colab": {},
    "colab_type": "code",
    "id": "rgK6cWOKUhIJ"
   },
   "outputs": [],
   "source": [
    "def dist(X, i, j, distance_function = \"euclidean\"):\n",
    "    \"\"\"The distance function returns the (Euclidean) distance between rows i and j of a design matrix.\n",
    "     Args: X : Design Matrix\n",
    "           i,j: row IDs\n",
    "           distance_function: The distance function to be used. Here we are using euclidean\n",
    "     Returns: The distance between row i and row j.\n",
    "  \n",
    "    \"\"\"\n",
    "    #Write your code here.\n",
    "    r1=X[i]\n",
    "    r2=X[j]\n",
    "    d=r2-r1\n",
    "    d=d*d\n",
    "    distance=d.sum()\n",
    "    distance=np.sqrt(distance)\n",
    "\n",
    "    return distance"
   ]
  },
  {
   "cell_type": "code",
   "execution_count": 14,
   "metadata": {
    "colab": {},
    "colab_type": "code",
    "id": "cWvROZUqUnvJ"
   },
   "outputs": [],
   "source": [
    "def topk(X, k):\n",
    "    \"\"\"The topk(X, k) function returns ((i1,j1,d1),...(ik,jk,dk)) where (ix,jx) are the indices of the xth \n",
    "     closest pair, and dx is the corresponding distance. You can break ties randomly.\n",
    "     Args: X : Design Matrix\n",
    "           k:  Top k\n",
    "     Returns: top: A list of [row,col,distance]\n",
    "  \n",
    "    \"\"\"\n",
    "   \n",
    "    #Write your code here.\n",
    "    dm=pairwise_distances(X)\n",
    "    shape= dm.shape\n",
    "    tri_idx=np.triu_indices(dm.shape[0],1)\n",
    "    dm=dm[tri_idx]\n",
    "    idx= np.argpartition(dm, k)[:k]\n",
    "    vals=dm[idx]\n",
    "    idx=np.array(tri_idx).T[idx]\n",
    "    top= np.vstack([idx[:,0],idx[:,1],vals]).T\n",
    "    \n",
    "    return top"
   ]
  },
  {
   "cell_type": "markdown",
   "metadata": {
    "colab_type": "text",
    "id": "z6QQdWA7BmMZ"
   },
   "source": [
    "Use topk() to find the closest review pairs for each design matrix and print the following: the indices of the reviews, the distance, the first 20 characters of each review, the labels for each review."
   ]
  },
  {
   "cell_type": "code",
   "execution_count": 15,
   "metadata": {
    "colab": {},
    "colab_type": "code",
    "id": "L-pJSPn0a3NA"
   },
   "outputs": [
    {
     "name": "stdout",
     "output_type": "stream",
     "text": [
      "index_i:  4543.0\n",
      "index_j:  12168.0\n",
      "distance:  0.0\n",
      "i_characters:  Smallville episode J\n",
      "j_characters:  Smallville episode J\n",
      "i_sent:  1\n",
      "j_sent:  1\n",
      "\n",
      "index_i:  6035.0\n",
      "index_j:  18501.0\n",
      "distance:  0.0\n",
      "i_characters:  Corridors of time. T\n",
      "j_characters:  Corridors of time. T\n",
      "i_sent:  0\n",
      "j_sent:  0\n",
      "\n",
      "index_i:  7765.0\n",
      "index_j:  9776.0\n",
      "distance:  0.0\n",
      "i_characters:  How has this piece o\n",
      "j_characters:  How has this piece o\n",
      "i_sent:  0\n",
      "j_sent:  0\n",
      "\n",
      "index_i:  612.0\n",
      "index_j:  10730.0\n",
      "distance:  0.0\n",
      "i_characters:  There is no reason t\n",
      "j_characters:  There is no reason t\n",
      "i_sent:  0\n",
      "j_sent:  0\n",
      "\n",
      "index_i:  2893.0\n",
      "index_j:  12983.0\n",
      "distance:  0.0\n",
      "i_characters:  If you want Scream o\n",
      "j_characters:  If you want Scream o\n",
      "i_sent:  1\n",
      "j_sent:  1\n",
      "\n"
     ]
    }
   ],
   "source": [
    "# compute top k for X_counts matrix and print the following: the indices of the reviews, the distance, the first 20 characters of each review, the labels for each review.\n",
    "#Write your code here.\n",
    "\n",
    "\n",
    "close_k= topk(X_counts,5)\n",
    "for ck in close_k:\n",
    "    i,j,d= ck\n",
    "    ichars= train[\"review\"][i][0:20]\n",
    "    jchars= train[\"review\"][j][0:20]\n",
    "    isent= train[\"sentiment\"][i]\n",
    "    jsent= train[\"sentiment\"][j]\n",
    "    print(\"index_i: \",i)\n",
    "    print(\"index_j: \",j)\n",
    "    print(\"distance: \",d)\n",
    "    print(\"i_characters: \",ichars)\n",
    "    print(\"j_characters: \",jchars)\n",
    "    print(\"i_sent: \",isent)\n",
    "    print(\"j_sent: \",jsent)\n",
    "    print()"
   ]
  },
  {
   "cell_type": "code",
   "execution_count": 16,
   "metadata": {
    "colab": {},
    "colab_type": "code",
    "id": "TkvjeJMTaFTS"
   },
   "outputs": [
    {
     "name": "stdout",
     "output_type": "stream",
     "text": [
      "index_i:  4723.0\n",
      "index_j:  9740.0\n",
      "distance:  0.0\n",
      "i_characters:  This movie got off t\n",
      "j_characters:  This movie got off t\n",
      "i_sent:  0\n",
      "j_sent:  0\n",
      "\n",
      "index_i:  3256.0\n",
      "index_j:  23321.0\n",
      "distance:  0.0\n",
      "i_characters:  You do realize that \n",
      "j_characters:  You do realize that \n",
      "i_sent:  0\n",
      "j_sent:  0\n",
      "\n",
      "index_i:  5519.0\n",
      "index_j:  14734.0\n",
      "distance:  0.0\n",
      "i_characters:  'Dead Letter Office'\n",
      "j_characters:  'Dead Letter Office'\n",
      "i_sent:  0\n",
      "j_sent:  0\n",
      "\n",
      "index_i:  2018.0\n",
      "index_j:  6396.0\n",
      "distance:  0.0\n",
      "i_characters:  I find it rather use\n",
      "j_characters:  I find it rather use\n",
      "i_sent:  0\n",
      "j_sent:  0\n",
      "\n",
      "index_i:  14104.0\n",
      "index_j:  22961.0\n",
      "distance:  0.0\n",
      "i_characters:  I like a lot of the \n",
      "j_characters:  I like a lot of the \n",
      "i_sent:  0\n",
      "j_sent:  0\n",
      "\n"
     ]
    }
   ],
   "source": [
    "# compute top k for X_binary matrix and print the following: the indices of the reviews, the distance, the first 20 characters of each review, the labels for each review.\n",
    "#Write your code here.\n",
    "\n",
    "close_k= topk(X_binary,5)\n",
    "for ck in close_k:\n",
    "    i,j,d= ck\n",
    "    ichars= train[\"review\"][i][0:20]\n",
    "    jchars= train[\"review\"][j][0:20]\n",
    "    isent= train[\"sentiment\"][i]\n",
    "    jsent= train[\"sentiment\"][j]\n",
    "    print(\"index_i: \",i)\n",
    "    print(\"index_j: \",j)\n",
    "    print(\"distance: \",d)\n",
    "    print(\"i_characters: \",ichars)\n",
    "    print(\"j_characters: \",jchars)\n",
    "    print(\"i_sent: \",isent)\n",
    "    print(\"j_sent: \",jsent)\n",
    "    print()"
   ]
  },
  {
   "cell_type": "code",
   "execution_count": 17,
   "metadata": {
    "colab": {},
    "colab_type": "code",
    "id": "OITNkuZUaOu_"
   },
   "outputs": [
    {
     "name": "stdout",
     "output_type": "stream",
     "text": [
      "index_i:  1461.0\n",
      "index_j:  6013.0\n",
      "distance:  0.0\n",
      "i_characters:  I really enjoyed thi\n",
      "j_characters:  I really enjoyed thi\n",
      "i_sent:  1\n",
      "j_sent:  1\n",
      "\n",
      "index_i:  15426.0\n",
      "index_j:  21441.0\n",
      "distance:  0.0\n",
      "i_characters:  As a low budget ente\n",
      "j_characters:  As a low budget ente\n",
      "i_sent:  1\n",
      "j_sent:  1\n",
      "\n",
      "index_i:  2465.0\n",
      "index_j:  16917.0\n",
      "distance:  0.0\n",
      "i_characters:  God, I was bored out\n",
      "j_characters:  God, I was bored out\n",
      "i_sent:  0\n",
      "j_sent:  0\n",
      "\n",
      "index_i:  15290.0\n",
      "index_j:  18042.0\n",
      "distance:  0.0\n",
      "i_characters:  This show comes up w\n",
      "j_characters:  This show comes up w\n",
      "i_sent:  0\n",
      "j_sent:  0\n",
      "\n",
      "index_i:  8255.0\n",
      "index_j:  19847.0\n",
      "distance:  0.0\n",
      "i_characters:  After losing the Emm\n",
      "j_characters:  After losing the Emm\n",
      "i_sent:  1\n",
      "j_sent:  1\n",
      "\n"
     ]
    }
   ],
   "source": [
    "# compute top k for X_tfidf matrix and print the following: the indices of the reviews, the distance, the first 20 characters of each review, the labels for each review.\n",
    "#Write your code here.\n",
    "\n",
    "close_k= topk(X_tfidf,5)\n",
    "for ck in close_k:\n",
    "    i,j,d= ck\n",
    "    ichars= train[\"review\"][i][0:20]\n",
    "    jchars= train[\"review\"][j][0:20]\n",
    "    isent= train[\"sentiment\"][i]\n",
    "    jsent= train[\"sentiment\"][j]\n",
    "    print(\"index_i: \",i)\n",
    "    print(\"index_j: \",j)\n",
    "    print(\"distance: \",d)\n",
    "    print(\"i_characters: \",ichars)\n",
    "    print(\"j_characters: \",jchars)\n",
    "    print(\"i_sent: \",isent)\n",
    "    print(\"j_sent: \",jsent)\n",
    "    print()"
   ]
  },
  {
   "cell_type": "code",
   "execution_count": 18,
   "metadata": {
    "colab": {},
    "colab_type": "code",
    "id": "ckNqY0ZbaU-z"
   },
   "outputs": [
    {
     "name": "stdout",
     "output_type": "stream",
     "text": [
      "index_i:  3109.0\n",
      "index_j:  4747.0\n",
      "distance:  0.0\n",
      "i_characters:  When i got this movi\n",
      "j_characters:  When i got this movi\n",
      "i_sent:  0\n",
      "j_sent:  0\n",
      "\n",
      "index_i:  7741.0\n",
      "index_j:  15495.0\n",
      "distance:  0.0\n",
      "i_characters:  This film was so ama\n",
      "j_characters:  This film was so ama\n",
      "i_sent:  0\n",
      "j_sent:  0\n",
      "\n",
      "index_i:  2054.0\n",
      "index_j:  5849.0\n",
      "distance:  0.0\n",
      "i_characters:  In 1993, \\the visito\n",
      "j_characters:  In 1993, \\the visito\n",
      "i_sent:  0\n",
      "j_sent:  0\n",
      "\n",
      "index_i:  9658.0\n",
      "index_j:  14492.0\n",
      "distance:  0.0\n",
      "i_characters:  What was an exciting\n",
      "j_characters:  What was an exciting\n",
      "i_sent:  0\n",
      "j_sent:  0\n",
      "\n",
      "index_i:  7745.0\n",
      "index_j:  10662.0\n",
      "distance:  0.0\n",
      "i_characters:  The story and the sh\n",
      "j_characters:  The story and the sh\n",
      "i_sent:  0\n",
      "j_sent:  0\n",
      "\n"
     ]
    }
   ],
   "source": [
    "# compute top k for X_binary_imbalance matrix and print the following: the indices of the reviews, the distance, the first 20 characters of each review, the labels for each review.\n",
    "#Write your code here.\n",
    "\n",
    "close_k= topk(X_binary_imbalance,5)\n",
    "for ck in close_k:\n",
    "    i,j,d= ck\n",
    "    ichars= imbalance_train[\"review\"][i][0:20]\n",
    "    jchars= imbalance_train[\"review\"][j][0:20]\n",
    "    isent= imbalance_train[\"sentiment\"][i]\n",
    "    jsent= imbalance_train[\"sentiment\"][j]\n",
    "    print(\"index_i: \",i)\n",
    "    print(\"index_j: \",j)\n",
    "    print(\"distance: \",d)\n",
    "    print(\"i_characters: \",ichars)\n",
    "    print(\"j_characters: \",jchars)\n",
    "    print(\"i_sent: \",isent)\n",
    "    print(\"j_sent: \",jsent)\n",
    "    print()"
   ]
  },
  {
   "cell_type": "markdown",
   "metadata": {
    "colab_type": "text",
    "id": "ESA7ElrMbHEw"
   },
   "source": [
    "Are the pairs always the same?\n",
    "\n",
    "A: No they are not always the same. They are only the same for X_counts and X_binary. They are different for X_tfidf and X_binary_imbalanced"
   ]
  },
  {
   "cell_type": "markdown",
   "metadata": {
    "colab_type": "text",
    "id": "yywNrWhlbQ10"
   },
   "source": [
    "## 3. Classification Experiment [35 Points]"
   ]
  },
  {
   "cell_type": "markdown",
   "metadata": {
    "colab_type": "text",
    "id": "Mo8UaxPjCr9Q"
   },
   "source": [
    "Now you’re going to tune an SVM classifier using each design matrix, and measure the\n",
    "resultant performance. Read the sklearn [docs](http://scikit-learn.org/stable/modules/cross_validation.html) on cross-validation to see the\n",
    "methods to use.\n",
    "*   Set your rng seed to 0 and create an initial learning_set / test_set split of 80-20.\n",
    "*   Now we want to use a linear SVM (svm.SVC with kernel=linear) and pick the best C value for our classifier.\n",
    "*   Repeat for each of the four design matrices:\n",
    "  *  Repeat 30 times:\n",
    "    *  Pick a random value of C uniformly in the interval (1e-4, 1e4).\n",
    "    *  Use 5-fold cross-validation to train the SVM.\n",
    "    *  Estimate and record the F1-Score.\n",
    "  *  Select the value of C which produced the best F1-Score and find out the F1-Score on the test set using that C.\n",
    "  *  Retrain the classifier using the entire learning set with this C value.\n",
    "  *  Submit test set predictions to Kaggle (see the section in the blog, and\n",
    "make sure you use their test data. You may need to retrain one more\n",
    "time using all “training data”). Print your Kaggle score."
   ]
  },
  {
   "cell_type": "code",
   "execution_count": 19,
   "metadata": {
    "colab": {},
    "colab_type": "code",
    "id": "t9La4ICibWl6"
   },
   "outputs": [],
   "source": [
    "import matplotlib.pyplot as plt\n",
    "import random as rd\n",
    "\n",
    "from sklearn import svm\n",
    "from sklearn.metrics import f1_score\n",
    "from sklearn.model_selection import train_test_split, KFold"
   ]
  },
  {
   "cell_type": "markdown",
   "metadata": {
    "colab_type": "text",
    "id": "CD98GcZ9jJ2b"
   },
   "source": [
    "### 3.1 Utility Functions [10 (5 + 5) Points]"
   ]
  },
  {
   "cell_type": "code",
   "execution_count": 20,
   "metadata": {
    "colab": {},
    "colab_type": "code",
    "id": "N9K2mD7pe9Bc"
   },
   "outputs": [],
   "source": [
    "def calculateF1(X, y, k = 5):\n",
    "    \"\"\"calculateF1(X, y, k = 5) return two list which record all randomly selected c(in the interval (1e-4, 1e4))\n",
    "     and corresponding F1 scores.\n",
    "\n",
    "     Args: X: Features\n",
    "           y: Label of sentiment\n",
    "           k: Number of Cross-validation\n",
    "\n",
    "     Returns: c_list: List of all c values.\n",
    "              f1_list: Corresponding F1 Scores.\n",
    "    \"\"\"\n",
    "    rd.seed(0) #Setting a common seed\n",
    "\n",
    "    #Write your code here.\n",
    "    cv= KFold(n_splits= k)\n",
    "    c_list= []\n",
    "    f1_list= []\n",
    "    \n",
    "    for i in range(30):\n",
    "        c= rd.uniform(-4, 4)\n",
    "        c= 10**c\n",
    "        f1=0\n",
    "        clf= svm.LinearSVC(C= c)\n",
    "        \n",
    "        for train, test in cv.split(X, y):\n",
    "            clf.fit(X[train], y[train])\n",
    "            y_pred = clf.predict(X[test])\n",
    "            temp_f1 = f1_score(y[test], y_pred)\n",
    "            f1 = f1+temp_f1\n",
    "            \n",
    "        f1=f1/k\n",
    "        c_list.append(c)\n",
    "        f1_list.append(f1)\n",
    "        \n",
    "    return c_list, f1_list"
   ]
  },
  {
   "cell_type": "code",
   "execution_count": 21,
   "metadata": {
    "colab": {},
    "colab_type": "code",
    "id": "Ah82TDqCgKaN"
   },
   "outputs": [],
   "source": [
    "def findBestC(X, y, k = 5):\n",
    "    \"\"\"findBestC(X, y, k) return the best performance c, and the improvement(difference between best and worst f1_scores)/\n",
    "     Args: X: Features\n",
    "           y: Label of sentiment\n",
    "           k: Number of Cross-validation\n",
    "     Returns: c_best: C value with best f1_score.\n",
    "              improvement: difference between best and worst f1_score.\n",
    "    \"\"\"\n",
    "    c_list, f1_list= calculateF1(X, y,k)\n",
    "    best_idx= np.argmax(f1_list)\n",
    "    worst_idx= np.argmin(f1_list)\n",
    "    c_best=c_list[best_idx]\n",
    "    improvement= f1_list[best_idx]-f1_list[worst_idx]     \n",
    "    \n",
    "    return c_best,improvement"
   ]
  },
  {
   "cell_type": "markdown",
   "metadata": {
    "colab_type": "text",
    "id": "aAMZU6YBjUVU"
   },
   "source": [
    "### 3.2 Tune an SVM classifier using X_counts [20 (4*5) Points]"
   ]
  },
  {
   "cell_type": "markdown",
   "metadata": {
    "colab_type": "text",
    "id": "IVatM_PprZpC"
   },
   "source": [
    "#### 3.2.0 Utility Function"
   ]
  },
  {
   "cell_type": "code",
   "execution_count": 22,
   "metadata": {
    "colab": {},
    "colab_type": "code",
    "id": "AFjJKZKelYl5"
   },
   "outputs": [],
   "source": [
    "def findImprovement(X,train_sentiment,test_size = 0.2, random_state = 0):\n",
    "    \"\"\" Find the improvement in F1-Score of the design Matrix(X) using previous utility functions and the test_f1_score using the best C.\n",
    "\n",
    "      Args: X: Design Matrix\n",
    "            train_sentiment: Sentiments of the training data\n",
    "            test_size: Split it as 80:20\n",
    "            random_state: Seed\n",
    "\n",
    "      Returns:\n",
    "            c_best: The best possible c value\n",
    "            improvement: improvement in F1-Score using the design Matrix(X).\n",
    "            f1_s: Test F1 Score.\n",
    "            \n",
    "\n",
    "      You should carry out the following Steps:\n",
    "      1. Split the data using the above parameters.\n",
    "      2. Find out the best c and the improvement. (use 5-fold Cross Validation.)\n",
    "      3. Find out the test f1 score with this c.\n",
    "    \"\"\"\n",
    "    #Write your code here.\n",
    "    X_train, X_test, y_train, y_test= train_test_split(X,train_sentiment, test_size = 0.2, random_state = 0)\n",
    "    c_best, improvement= findBestC(X_train, y_train, 5)\n",
    "    clf= svm.LinearSVC(C = c_best)\n",
    "    clf.fit(X_train, y_train)\n",
    "    y_pred=clf.predict(X_test)\n",
    "    f1_s= f1_score(y_test, y_pred)\n",
    "\n",
    "    return c_best,improvement,f1_s"
   ]
  },
  {
   "cell_type": "markdown",
   "metadata": {
    "colab_type": "text",
    "id": "f90fpHRiq1IM"
   },
   "source": [
    "#### 3.2.1 Tune an SVM classifier using X_counts\n",
    "\n"
   ]
  },
  {
   "cell_type": "code",
   "execution_count": 36,
   "metadata": {
    "colab": {},
    "colab_type": "code",
    "id": "vtON_6r5jgTL"
   },
   "outputs": [
    {
     "name": "stdout",
     "output_type": "stream",
     "text": [
      "c_best:  0.010093707860257255\n",
      "improvement:  0.053691953325930575\n",
      "f1_s:  0.8756299133239266\n"
     ]
    }
   ],
   "source": [
    "#Print the improvement using X_counts and the test f1_score using the best c.\n",
    "#Write your code here.\n",
    "import warnings\n",
    "warnings.filterwarnings('ignore')\n",
    "\n",
    "c_best,improvement,f1_s= findImprovement(X_counts,train_sentiment,test_size = 0.2, random_state = 0)\n",
    "print(\"c_best: \",c_best)\n",
    "print(\"improvement: \",improvement)\n",
    "print(\"f1_s: \",f1_s)"
   ]
  },
  {
   "cell_type": "code",
   "execution_count": 37,
   "metadata": {
    "colab": {},
    "colab_type": "code",
    "id": "IygnGs8blBu-"
   },
   "outputs": [
    {
     "data": {
      "text/plain": [
       "LinearSVC(C=0.010093707860257255, class_weight=None, dual=True,\n",
       "     fit_intercept=True, intercept_scaling=1, loss='squared_hinge',\n",
       "     max_iter=1000, multi_class='ovr', penalty='l2', random_state=None,\n",
       "     tol=0.0001, verbose=0)"
      ]
     },
     "execution_count": 37,
     "metadata": {},
     "output_type": "execute_result"
    }
   ],
   "source": [
    "# Retrain the classifier using the entire learning set with c_best\n",
    "#Write your code here.\n",
    "xc_clf= svm.LinearSVC(C = c_best)\n",
    "xc_clf.fit(X_counts, train_sentiment)"
   ]
  },
  {
   "cell_type": "markdown",
   "metadata": {
    "colab_type": "text",
    "id": "IunoAYI6pgZW"
   },
   "source": [
    "Submit test set predictions to Kaggle (see the section in the blog, and\n",
    "make sure you use their test data. You may need to retrain one more\n",
    "time using all “training data”). Print your Kaggle scores."
   ]
  },
  {
   "cell_type": "code",
   "execution_count": 38,
   "metadata": {
    "colab": {},
    "colab_type": "code",
    "id": "9aRF1HA7lHAP"
   },
   "outputs": [
    {
     "name": "stdout",
     "output_type": "stream",
     "text": [
      "The Kaggle Score using X_counts is 0.54072\n"
     ]
    }
   ],
   "source": [
    "#You should do the following steps.\n",
    "#1. Create bag of words from the test data.\n",
    "#2. Generate the labels using that test data.\n",
    "#3. Save the results to the pandas dataframe. For format check the blog.\n",
    "#4. Submit the results to Kaggle and add the scores here.\n",
    "\n",
    "#Write your code here.\n",
    "X_counts_test, X_binary_test, X_tfidf_test, X_binary_imbalance_test, imbalance_test= design_matrix(cleaned_test_reviews)\n",
    "xc_pred= xc_clf.predict(X_counts_test)\n",
    "xc_output= pd.DataFrame(data={\"id\":test[\"id\"], \"sentiment\":xc_pred})\n",
    "xc_output.to_csv(\"xcounts.csv\", index=False)\n",
    "\n",
    "#Uncomment the below lines and add your score.\n",
    "X_counts_result = 0.54072\n",
    "print(\"The Kaggle Score using X_counts is {}\".format(X_counts_result))"
   ]
  },
  {
   "cell_type": "markdown",
   "metadata": {
    "colab_type": "text",
    "id": "cYRrpQtvrAKF"
   },
   "source": [
    "#### 3.2.2 Tune an SVM classifier using X_binary"
   ]
  },
  {
   "cell_type": "code",
   "execution_count": 39,
   "metadata": {
    "colab": {},
    "colab_type": "code",
    "id": "jVwbgdUJrD5h"
   },
   "outputs": [
    {
     "name": "stdout",
     "output_type": "stream",
     "text": [
      "c_best:  0.010093707860257255\n",
      "improvement:  0.055924091917174956\n",
      "f1_s:  0.8713509160459029\n"
     ]
    }
   ],
   "source": [
    "#Print the improvement using X_binary and the test f1_score using the best c.\n",
    "#Write your code here.\n",
    "c_best,improvement,f1_s= findImprovement(X_binary,train_sentiment,test_size = 0.2, random_state = 0)\n",
    "print(\"c_best: \",c_best)\n",
    "print(\"improvement: \",improvement)\n",
    "print(\"f1_s: \",f1_s)"
   ]
  },
  {
   "cell_type": "code",
   "execution_count": 40,
   "metadata": {
    "colab": {},
    "colab_type": "code",
    "id": "hI0KVsQjsGHa"
   },
   "outputs": [
    {
     "data": {
      "text/plain": [
       "LinearSVC(C=0.010093707860257255, class_weight=None, dual=True,\n",
       "     fit_intercept=True, intercept_scaling=1, loss='squared_hinge',\n",
       "     max_iter=1000, multi_class='ovr', penalty='l2', random_state=None,\n",
       "     tol=0.0001, verbose=0)"
      ]
     },
     "execution_count": 40,
     "metadata": {},
     "output_type": "execute_result"
    }
   ],
   "source": [
    "# Retrain the classifier using the entire learning set with c_best\n",
    "#Write your code here.\n",
    "xb_clf= svm.LinearSVC(C = c_best)\n",
    "xb_clf.fit(X_binary, train_sentiment)"
   ]
  },
  {
   "cell_type": "code",
   "execution_count": 41,
   "metadata": {
    "colab": {},
    "colab_type": "code",
    "id": "-zpgOR4NsdrP"
   },
   "outputs": [
    {
     "name": "stdout",
     "output_type": "stream",
     "text": [
      "The Kaggle Score using X_binary is 0.55152\n"
     ]
    }
   ],
   "source": [
    "#Use the the same steps as you did for X_counts and print the kaggle score. Please note that you need to find X_binary_test using the X_counts_test.\n",
    "#Write your code here.\n",
    "xb_pred= xb_clf.predict(X_binary_test)\n",
    "xb_output= pd.DataFrame(data={\"id\":test[\"id\"], \"sentiment\":xb_pred})\n",
    "xb_output.to_csv(\"xbinary.csv\", index=False)\n",
    "\n",
    "\n",
    "#Uncomment the below lines and add your score.\n",
    "X_binary_result = 0.55152\n",
    "print(\"The Kaggle Score using X_binary is {}\".format(X_binary_result))"
   ]
  },
  {
   "cell_type": "markdown",
   "metadata": {
    "colab_type": "text",
    "id": "sRHMJO2os_tc"
   },
   "source": [
    "#### 3.2.3 Tune an SVM classifier using X_tf_idf"
   ]
  },
  {
   "cell_type": "code",
   "execution_count": 42,
   "metadata": {
    "colab": {},
    "colab_type": "code",
    "id": "xnm8PdFWtGE9"
   },
   "outputs": [
    {
     "name": "stdout",
     "output_type": "stream",
     "text": [
      "c_best:  0.173569374988568\n",
      "improvement:  0.06279354208338983\n",
      "f1_s:  0.888083735909823\n"
     ]
    }
   ],
   "source": [
    "#Print the improvement using X_tf_idf and the test f1_score using the best c.\n",
    "#Write your code here.\n",
    "c_best,improvement,f1_s= findImprovement(X_tfidf,train_sentiment,test_size = 0.2, random_state = 0)\n",
    "print(\"c_best: \",c_best)\n",
    "print(\"improvement: \",improvement)\n",
    "print(\"f1_s: \",f1_s)"
   ]
  },
  {
   "cell_type": "code",
   "execution_count": 43,
   "metadata": {
    "colab": {},
    "colab_type": "code",
    "id": "KWXXKrgGtU-r"
   },
   "outputs": [
    {
     "data": {
      "text/plain": [
       "LinearSVC(C=0.173569374988568, class_weight=None, dual=True,\n",
       "     fit_intercept=True, intercept_scaling=1, loss='squared_hinge',\n",
       "     max_iter=1000, multi_class='ovr', penalty='l2', random_state=None,\n",
       "     tol=0.0001, verbose=0)"
      ]
     },
     "execution_count": 43,
     "metadata": {},
     "output_type": "execute_result"
    }
   ],
   "source": [
    "# Retrain svm using all X_tfidf data\n",
    "#Write your code here.\n",
    "xt_clf= svm.LinearSVC(C = c_best)\n",
    "xt_clf.fit(X_tfidf, train_sentiment)"
   ]
  },
  {
   "cell_type": "code",
   "execution_count": 44,
   "metadata": {
    "colab": {},
    "colab_type": "code",
    "id": "waBnpKAztX_H"
   },
   "outputs": [
    {
     "name": "stdout",
     "output_type": "stream",
     "text": [
      "The Kaggle Score using X_tfidf is 0.56943\n"
     ]
    }
   ],
   "source": [
    "#Use the the same steps as you did for X_counts and print the kaggle score. Please note that you need to find X_tfidf_test using the X_counts_test.\n",
    "\n",
    "#Write your code here.\n",
    "xt_pred= xt_clf.predict(X_tfidf_test)\n",
    "xt_output= pd.DataFrame(data={\"id\":test[\"id\"], \"sentiment\":xt_pred})\n",
    "xt_output.to_csv(\"xtfidf.csv\", index=False)\n",
    "\n",
    "\n",
    "#Uncomment the below lines and add your score.\n",
    "X_tfidf_result = 0.56943\n",
    "print(\"The Kaggle Score using X_tfidf is {}\".format(X_tfidf_result))"
   ]
  },
  {
   "cell_type": "markdown",
   "metadata": {
    "colab_type": "text",
    "id": "8GSTHOCktwVf"
   },
   "source": [
    "#### 3.2.4 Tune an SVM classifier using X_binary_imbalance"
   ]
  },
  {
   "cell_type": "code",
   "execution_count": 45,
   "metadata": {
    "colab": {},
    "colab_type": "code",
    "id": "OWPad9EXtzKD"
   },
   "outputs": [
    {
     "name": "stdout",
     "output_type": "stream",
     "text": [
      "c_best:  0.01797640132539557\n",
      "improvement:  0.21287935039895012\n",
      "f1_s:  0.7214225232853515\n"
     ]
    }
   ],
   "source": [
    "#Print the improvement using X_binary_imbalance and the test f1_score using the best c.\n",
    "#Write your code here.\n",
    "c_best,improvement,f1_s= findImprovement(X_binary_imbalance,imbalance_train_sentiment,test_size = 0.2, random_state = 0)\n",
    "print(\"c_best: \",c_best)\n",
    "print(\"improvement: \",improvement)\n",
    "print(\"f1_s: \",f1_s)"
   ]
  },
  {
   "cell_type": "code",
   "execution_count": 46,
   "metadata": {
    "colab": {},
    "colab_type": "code",
    "id": "oUsNuBpouEL-"
   },
   "outputs": [
    {
     "data": {
      "text/plain": [
       "LinearSVC(C=0.01797640132539557, class_weight=None, dual=True,\n",
       "     fit_intercept=True, intercept_scaling=1, loss='squared_hinge',\n",
       "     max_iter=1000, multi_class='ovr', penalty='l2', random_state=None,\n",
       "     tol=0.0001, verbose=0)"
      ]
     },
     "execution_count": 46,
     "metadata": {},
     "output_type": "execute_result"
    }
   ],
   "source": [
    "# Retrain svm using all X_binary_imbalance data.\n",
    "#Write your code here.\n",
    "xbi_clf= svm.LinearSVC(C = c_best)\n",
    "xbi_clf.fit(X_binary_imbalance, imbalance_train_sentiment)"
   ]
  },
  {
   "cell_type": "code",
   "execution_count": 47,
   "metadata": {
    "colab": {},
    "colab_type": "code",
    "id": "a6YJvYHkuFh8"
   },
   "outputs": [
    {
     "name": "stdout",
     "output_type": "stream",
     "text": [
      "The Kaggle Score using X_binary_imbalance is 0.51752\n"
     ]
    }
   ],
   "source": [
    "#Use the the same steps as you did for X_counts and print the kaggle score.\n",
    "\n",
    "#Write your code here.\n",
    "xbi_pred= xbi_clf.predict(X_binary_test)\n",
    "xbi_output= pd.DataFrame(data={\"id\":test[\"id\"], \"sentiment\":xbi_pred})\n",
    "xbi_output.to_csv(\"xbi.csv\", index=False)\n",
    "\n",
    "\n",
    "#Uncomment the below lines and add your score.\n",
    "X_binary_imbalance_result = 0.51752\n",
    "print(\"The Kaggle Score using X_binary_imbalance is {}\".format(X_binary_imbalance_result))"
   ]
  },
  {
   "cell_type": "markdown",
   "metadata": {
    "colab_type": "text",
    "id": "mRxZro0LMixK"
   },
   "source": [
    "Which design matrix performed best (e.g., which encoding method worked best)?\n",
    "\n",
    "A: X_tfidf performed the best, as it had the best test accuracy. \n",
    "\n",
    "What was the lift (improvement in F1-Score) between the worst and best cases for each experiment?\n",
    "\n",
    "A: <br>\n",
    "1) X_count: 0.0536129817027462<br>\n",
    "2) X_binary: 0.055924091917174956<br>\n",
    "3) X_tfidf: 0.062375758495022526<br>\n",
    "4) X_counts: 0.21287935039895012"
   ]
  },
  {
   "cell_type": "markdown",
   "metadata": {
    "colab_type": "text",
    "id": "DFjZq14Subsb"
   },
   "source": [
    "##4. Learning Curve Experiment [15(10 + 5) Points]"
   ]
  },
  {
   "cell_type": "markdown",
   "metadata": {
    "colab_type": "text",
    "id": "0LfArmX7M0-9"
   },
   "source": [
    "Using a logistic regression classifier and the design matrix X_counts, generate a learning curve:\n",
    "*  Set your rng seed to 0 and create an initial learning_set / test_set split of 80-20.\n",
    "*  Generate a learning curve (xval vs training error) for n=(100, 500, 1000, 2000,3000, 4000, 5000, 7500, 10000, 15000, 20000) training instances.\n",
    "*  Interpret the learning curve."
   ]
  },
  {
   "cell_type": "code",
   "execution_count": 48,
   "metadata": {
    "colab": {},
    "colab_type": "code",
    "id": "yZy1W2wCNRrU"
   },
   "outputs": [],
   "source": [
    "from sklearn.linear_model import LogisticRegression\n",
    "from sklearn.model_selection import learning_curve"
   ]
  },
  {
   "cell_type": "code",
   "execution_count": 49,
   "metadata": {
    "colab": {},
    "colab_type": "code",
    "id": "OQYNGVZYugpY"
   },
   "outputs": [
    {
     "data": {
      "image/png": "[encoded data removed]",
      "text/plain": [
       "<Figure size 432x288 with 1 Axes>"
      ]
     },
     "metadata": {
      "needs_background": "light"
     },
     "output_type": "display_data"
    }
   ],
   "source": [
    "training_instances = [100, 500, 1000, 2000, 3000, 4000, 5000, 7500, 10000, 15000, 20000]\n",
    "#Use the learning_curve module to generate mean train and test scores and plot them with X-axis being the number of training instances and Y-axis.\n",
    "#Please add appropriate title,labels and legends.\n",
    "\n",
    "#Write your code here.\n",
    "val, trs, tes= learning_curve(LogisticRegression(), X_counts, train_sentiment, cv = 5, train_sizes = training_instances)\n",
    "tr_error= 1-np.mean(trs, axis= 1)\n",
    "te_error= 1-np.mean(tes, axis= 1)\n",
    "\n",
    "plt.plot(training_instances, tr_error, 'o-', label = \"Train Error\", color = \"b\")\n",
    "plt.plot(training_instances, te_error, 'o-', label = \"Test Error\", color = \"r\")\n",
    "plt.title(\"Logistic Regression Learning Curves\")\n",
    "plt.xlabel(\"Training Instances\")\n",
    "plt.ylabel(\"Error\")\n",
    "plt.legend()\n",
    "plt.show()"
   ]
  },
  {
   "cell_type": "markdown",
   "metadata": {
    "colab_type": "text",
    "id": "Xm0dRZbpScvV"
   },
   "source": [
    "##### Please provide an explanation to the nature of your graph in the above experiment.\n",
    "\n",
    "The training error starts off near 0, then increases as the training size increases, whereas the the test error starts off high and decreases as the training size increases. This is becasue when there are few data points, the regression model can be skewed by outliers or even data points being differently distributed than the whole set of data points. This leads to high test errors as the model can be overfit to the training set and fails to generalize. However, as the number of data points increases, they tend to be more indicicative of the whole set, and so the testing error comes down, and since more points are incorporated into training, the training error rises as a linear svm has a tougher time coming up with the seperation boudary to fit all points. Therefore the training and testing errors seem to be converging."
   ]
  }
 ],
 "metadata": {
  "colab": {
   "collapsed_sections": [],
   "name": "HW1_CSE_6240_template.ipynb",
   "provenance": []
  },
  "kernelspec": {
   "display_name": "Python 3",
   "language": "python",
   "name": "python3"
  },
  "language_info": {
   "codemirror_mode": {
    "name": "ipython",
    "version": 3
   },
   "file_extension": ".py",
   "mimetype": "text/x-python",
   "name": "python",
   "nbconvert_exporter": "python",
   "pygments_lexer": "ipython3",
   "version": "3.7.3"
  }
 },
 "nbformat": 4,
 "nbformat_minor": 1
}
